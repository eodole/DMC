{
 "cells": [
  {
   "cell_type": "code",
   "execution_count": 3,
   "metadata": {},
   "outputs": [],
   "source": [
    "import numpy as np\n",
    "import pandas as pd\n",
    "import sklearn.impute\n",
    "import sklearn.neighbors \n",
    "import sklearn.model_selection\n",
    "from sklearn.model_selection import train_test_split\n",
    "from sklearn.model_selection import cross_val_score"
   ]
  },
  {
   "cell_type": "code",
   "execution_count": 9,
   "metadata": {},
   "outputs": [],
   "source": [
    "# Import Training Data\n",
    "training_data= pd.read_csv(\"./Data/training_data.csv\", sep=\";\", decimal=',')\n",
    "training_data.head()\n",
    "# Add Dummy Variables \n",
    "training_data = pd.get_dummies(training_data,\"Group_\",columns=[\"Group\"])\n",
    "# features and target split \n",
    "data_X = training_data.loc[:, training_data.columns != \"Class\"]\n",
    "data_X = data_X.loc[:, data_X.columns != \"Perform\"]\n",
    "\n",
    "data_Class = training_data.loc[:, \"Class\"]\n",
    "data_Perform = training_data.loc[:,\"Perform\"]"
   ]
  },
  {
   "cell_type": "code",
   "execution_count": 21,
   "metadata": {},
   "outputs": [
    {
     "data": {
      "text/plain": [
       "array([[ 0.13649506, -0.02842866, -0.03777178, ...,  0.        ,\n",
       "         0.        ,  1.        ],\n",
       "       [-0.71452162, -0.04213727, -0.0529679 , ...,  0.        ,\n",
       "         0.        ,  0.        ],\n",
       "       [ 0.10479108, -0.03818783, -0.05319077, ...,  0.        ,\n",
       "         0.        ,  0.        ],\n",
       "       ...,\n",
       "       [ 0.32323337, -0.03107468, -0.04571297, ...,  0.        ,\n",
       "         0.        ,  0.        ],\n",
       "       [ 1.08441631, -0.02849658, -0.04752757, ...,  0.        ,\n",
       "         0.        ,  0.        ],\n",
       "       [ 0.37326093, -0.03029381, -0.04231943, ...,  0.        ,\n",
       "         0.        ,  0.        ]])"
      ]
     },
     "execution_count": 21,
     "metadata": {},
     "output_type": "execute_result"
    }
   ],
   "source": [
    "# Impute the data \n",
    "imp = sklearn.impute.KNNImputer(n_neighbors=3,weights = \"uniform\")\n",
    "\n",
    "data_X = imp.fit_transform(data_X)\n",
    "data_X\n"
   ]
  },
  {
   "cell_type": "code",
   "execution_count": 22,
   "metadata": {},
   "outputs": [],
   "source": [
    "# Split Given Training Data to Test/Train Split \n",
    "X_train, X_test, Y_train, Y_test = sklearn.model_selection.train_test_split(data_X, data_Class, test_size=0.25, random_state=30)"
   ]
  },
  {
   "cell_type": "markdown",
   "metadata": {},
   "source": [
    "We split the test and train data with 3/4 train and 1/4 test data. "
   ]
  },
  {
   "cell_type": "code",
   "execution_count": 27,
   "metadata": {},
   "outputs": [
    {
     "data": {
      "text/plain": [
       "0.418"
      ]
     },
     "execution_count": 27,
     "metadata": {},
     "output_type": "execute_result"
    }
   ],
   "source": [
    "# Basic kNN classifier without cross validation \n",
    "C1 = sklearn.neighbors.KNeighborsClassifier(n_neighbors=5)\n",
    "C1.fit(X_train, Y_train)\n",
    "C1.score(X_test, Y_test)\n"
   ]
  },
  {
   "cell_type": "code",
   "execution_count": 28,
   "metadata": {},
   "outputs": [
    {
     "data": {
      "text/plain": [
       "0.4445"
      ]
     },
     "execution_count": 28,
     "metadata": {},
     "output_type": "execute_result"
    }
   ],
   "source": [
    "C1 = sklearn.neighbors.KNeighborsClassifier(n_neighbors=10)\n",
    "C1.fit(X_train, Y_train)\n",
    "C1.score(X_test, Y_test)\n"
   ]
  },
  {
   "cell_type": "code",
   "execution_count": 29,
   "metadata": {},
   "outputs": [
    {
     "data": {
      "text/plain": [
       "0.456"
      ]
     },
     "execution_count": 29,
     "metadata": {},
     "output_type": "execute_result"
    }
   ],
   "source": [
    "C1 = sklearn.neighbors.KNeighborsClassifier(n_neighbors=15)\n",
    "C1.fit(X_train, Y_train)\n",
    "C1.score(X_test, Y_test)\n"
   ]
  },
  {
   "cell_type": "code",
   "execution_count": 30,
   "metadata": {},
   "outputs": [
    {
     "data": {
      "text/plain": [
       "0.471"
      ]
     },
     "execution_count": 30,
     "metadata": {},
     "output_type": "execute_result"
    }
   ],
   "source": [
    "C1 = sklearn.neighbors.KNeighborsClassifier(n_neighbors=50)\n",
    "C1.fit(X_train, Y_train)\n",
    "C1.score(X_test, Y_test)\n"
   ]
  },
  {
   "cell_type": "code",
   "execution_count": 33,
   "metadata": {},
   "outputs": [
    {
     "name": "stdout",
     "output_type": "stream",
     "text": [
      "0.4755\n",
      "hello\n"
     ]
    }
   ],
   "source": [
    "C1 = sklearn.neighbors.KNeighborsClassifier(n_neighbors=150)\n",
    "C1.fit(X_train, Y_train)\n",
    "print(C1.score(X_test, Y_test))\n",
    "\n"
   ]
  },
  {
   "cell_type": "markdown",
   "metadata": {},
   "source": [
    "So we a really basic kNN Classifier we can only get around 50% accuracy, this may be do with the fact that I imputed values using KNN. So I'll try to repeat the process using a different impute method"
   ]
  },
  {
   "cell_type": "code",
   "execution_count": 38,
   "metadata": {},
   "outputs": [],
   "source": [
    "# Impute the data \n",
    "imp = sklearn.impute.SimpleImputer(strategy=\"median\")\n",
    "\n",
    "data_X = imp.fit_transform(data_X)\n",
    "data_X\n",
    "\n",
    "# Split Given Training Data to Test/Train Split \n",
    "X_train, X_test, Y_train, Y_test = sklearn.model_selection.train_test_split(data_X, data_Class, test_size=0.25, random_state=30)\n",
    "\n"
   ]
  },
  {
   "cell_type": "code",
   "execution_count": 42,
   "metadata": {},
   "outputs": [
    {
     "name": "stdout",
     "output_type": "stream",
     "text": [
      "N = 5 \n",
      "0.418\n",
      "N = 5 with distance\n",
      "0.4375\n",
      "N = 10 \n",
      "0.4445\n",
      "N = 10 with distance\n",
      "0.4575\n",
      "N = 15 \n",
      "0.456\n",
      "N = 15 with distance\n",
      "0.462\n",
      "N = 50 \n",
      "0.471\n",
      "N = 50 with distance\n",
      "0.4795\n",
      "N = 150 \n",
      "0.4755\n",
      "N = 150 with distance\n",
      "0.478\n"
     ]
    }
   ],
   "source": [
    "# Basic kNN classifier without cross validation \n",
    "C1 = sklearn.neighbors.KNeighborsClassifier(n_neighbors=5)\n",
    "C1.fit(X_train, Y_train)\n",
    "print(\"N = 5 \")\n",
    "print(C1.score(X_test, Y_test))\n",
    "\n",
    "C1 = sklearn.neighbors.KNeighborsClassifier(n_neighbors=5, weights=\"distance\")\n",
    "C1.fit(X_train, Y_train)\n",
    "print(\"N = 5 with distance\")\n",
    "print(C1.score(X_test, Y_test))\n",
    "\n",
    "C1 = sklearn.neighbors.KNeighborsClassifier(n_neighbors=10)\n",
    "C1.fit(X_train, Y_train)\n",
    "print(\"N = 10 \")\n",
    "print(C1.score(X_test, Y_test))\n",
    "\n",
    "C1 = sklearn.neighbors.KNeighborsClassifier(n_neighbors=10, weights=\"distance\")\n",
    "C1.fit(X_train, Y_train)\n",
    "print(\"N = 10 with distance\")\n",
    "print(C1.score(X_test, Y_test))\n",
    "\n",
    "C1 = sklearn.neighbors.KNeighborsClassifier(n_neighbors=15)\n",
    "C1.fit(X_train, Y_train)\n",
    "print(\"N = 15 \")\n",
    "print(C1.score(X_test, Y_test))\n",
    "\n",
    "C1 = sklearn.neighbors.KNeighborsClassifier(n_neighbors=15, weights=\"distance\")\n",
    "C1.fit(X_train, Y_train)\n",
    "print(\"N = 15 with distance\")\n",
    "print(C1.score(X_test, Y_test))\n",
    "\n",
    "C1 = sklearn.neighbors.KNeighborsClassifier(n_neighbors=50)\n",
    "C1.fit(X_train, Y_train)\n",
    "print(\"N = 50 \")\n",
    "print(C1.score(X_test, Y_test))\n",
    "\n",
    "C1 = sklearn.neighbors.KNeighborsClassifier(n_neighbors=50, weights=\"distance\")\n",
    "C1.fit(X_train, Y_train)\n",
    "print(\"N = 50 with distance\")\n",
    "print(C1.score(X_test, Y_test))\n",
    "\n",
    "C1 = sklearn.neighbors.KNeighborsClassifier(n_neighbors=150)\n",
    "C1.fit(X_train, Y_train)\n",
    "print(\"N = 150 \")\n",
    "print(C1.score(X_test, Y_test))\n",
    "\n",
    "C1 = sklearn.neighbors.KNeighborsClassifier(n_neighbors=150, weights=\"distance\")\n",
    "C1.fit(X_train, Y_train)\n",
    "print(\"N = 150 with distance\")\n",
    "print(C1.score(X_test, Y_test))"
   ]
  },
  {
   "cell_type": "markdown",
   "metadata": {},
   "source": [
    "Using weighted voting rather than uniform voting made a difference but only a small difference"
   ]
  },
  {
   "cell_type": "markdown",
   "metadata": {},
   "source": [
    "Next I plan to do knn with cross validation and check different hyperparameters \n",
    "\n",
    "- num neighbors\n",
    "- impute type\n",
    "\n",
    "The procedure uses 5 fold CV\n"
   ]
  },
  {
   "cell_type": "code",
   "execution_count": null,
   "metadata": {},
   "outputs": [],
   "source": [
    "### Impute Data \n",
    "imp = sklearn.impute.SimpleImputer(strategy=\"median\")\n",
    "data_Xsimple = imp.fit_transform(data_X)\n",
    "imp = sklearn.impute.KNNImputer(n_neighbors=3,weights = \"uniform\")\n",
    "data_XkNN = imp.fit_transform(data_X)\n"
   ]
  },
  {
   "cell_type": "code",
   "execution_count": 13,
   "metadata": {},
   "outputs": [
    {
     "name": "stdout",
     "output_type": "stream",
     "text": [
      "Impute Simple with 3 neighbors \n",
      "0.42300 accuracy with a standard deviation of 0.00920\n",
      "Impute Simple with 5 neighbors \n",
      "0.42200 accuracy with a standard deviation of 0.00931\n",
      "Impute Simple with 10 neighbors \n",
      "0.44225 accuracy with a standard deviation of 0.01201\n",
      "Impute Simple with 15 neighbors \n",
      "0.45687 accuracy with a standard deviation of 0.00590\n",
      "Impute Simple with 50 neighbors \n",
      "0.47813 accuracy with a standard deviation of 0.00505\n",
      "Impute Simple with 100 neighbors \n",
      "0.48075 accuracy with a standard deviation of 0.00637\n",
      "Impute Simple with 150 neighbors \n",
      "0.47825 accuracy with a standard deviation of 0.00612\n",
      "Impute Simple with 200 neighbors \n",
      "0.47613 accuracy with a standard deviation of 0.00735\n"
     ]
    }
   ],
   "source": [
    "# ### Make test/train split which is already done in this notebook\n",
    "\n",
    "# # # features and target split \n",
    "# data_X = training_data.loc[:, training_data.columns != \"Class\"]\n",
    "# data_X = data_X.loc[:, data_X.columns != \"Perform\"]\n",
    "\n",
    "# data_Class = training_data.loc[:, \"Class\"]\n",
    "# data_Perform = training_data.loc[:,\"Perform\"]\n",
    "\n",
    "\n",
    "\n",
    "### Split Data\n",
    "# X_train, X_test, Y_train, Y_test = sklearn.model_selection.train_test_split(data_Xsimple, data_Class, test_size=0.25, random_state=30)\n",
    "\n",
    "# Neighbors \n",
    "n_neighbors = [3,5,10,15,50,100,150,200]\n",
    "imp_simple_means =[]\n",
    "\n",
    "for neighbors in n_neighbors:\n",
    "    C1 = sklearn.neighbors.KNeighborsClassifier(n_neighbors=neighbors)\n",
    "    scores = cross_val_score(C1, data_Xsimple, data_Class,cv=5 )\n",
    "    print(f\"Impute Simple with {neighbors} neighbors \")\n",
    "    print(\"%0.5f accuracy with a standard deviation of %0.5f\" % (scores.mean(), scores.std()))\n",
    "    imp_simple_means.append(scores.mean())\n"
   ]
  },
  {
   "cell_type": "code",
   "execution_count": 14,
   "metadata": {},
   "outputs": [
    {
     "name": "stdout",
     "output_type": "stream",
     "text": [
      "Impute Simple with 3 neighbors \n",
      "0.41900 accuracy with a standard deviation of 0.01230\n",
      "Impute Simple with 5 neighbors \n",
      "0.42113 accuracy with a standard deviation of 0.00958\n",
      "Impute Simple with 10 neighbors \n",
      "0.44250 accuracy with a standard deviation of 0.00757\n",
      "Impute Simple with 15 neighbors \n",
      "0.45638 accuracy with a standard deviation of 0.00849\n",
      "Impute Simple with 50 neighbors \n",
      "0.47575 accuracy with a standard deviation of 0.00819\n",
      "Impute Simple with 100 neighbors \n",
      "0.48213 accuracy with a standard deviation of 0.00384\n",
      "Impute Simple with 150 neighbors \n",
      "0.48012 accuracy with a standard deviation of 0.00586\n",
      "Impute Simple with 200 neighbors \n",
      "0.47600 accuracy with a standard deviation of 0.00402\n"
     ]
    }
   ],
   "source": [
    "imp_knn_means =[]\n",
    "\n",
    "for neighbors in n_neighbors:\n",
    "    C1 = sklearn.neighbors.KNeighborsClassifier(n_neighbors=neighbors)\n",
    "    scores = cross_val_score(C1, data_XkNN, data_Class,cv=5 )\n",
    "    print(f\"Impute Simple with {neighbors} neighbors \")\n",
    "    print(\"%0.5f accuracy with a standard deviation of %0.5f\" % (scores.mean(), scores.std()))\n",
    "    imp_knn_means.append(scores.mean())\n"
   ]
  },
  {
   "cell_type": "code",
   "execution_count": 15,
   "metadata": {},
   "outputs": [
    {
     "data": {
      "text/plain": [
       "[0.42300000000000004,\n",
       " 0.422,\n",
       " 0.4422499999999999,\n",
       " 0.456875,\n",
       " 0.478125,\n",
       " 0.48075,\n",
       " 0.47824999999999995,\n",
       " 0.476125]"
      ]
     },
     "execution_count": 15,
     "metadata": {},
     "output_type": "execute_result"
    }
   ],
   "source": [
    "imp_simple_means"
   ]
  },
  {
   "cell_type": "code",
   "execution_count": 16,
   "metadata": {},
   "outputs": [
    {
     "data": {
      "text/plain": [
       "[0.41899999999999993,\n",
       " 0.4211250000000001,\n",
       " 0.4425,\n",
       " 0.4563750000000001,\n",
       " 0.47575,\n",
       " 0.482125,\n",
       " 0.48012499999999997,\n",
       " 0.476]"
      ]
     },
     "execution_count": 16,
     "metadata": {},
     "output_type": "execute_result"
    }
   ],
   "source": [
    "imp_knn_means"
   ]
  },
  {
   "cell_type": "markdown",
   "metadata": {},
   "source": [
    "The Ideal number of neighbors seems to be somewhere between 50 and 200, since our accuracy of the tested values peaks around 100, I could do more finely grained testing but I would instead like to test another method, kMeans =3 "
   ]
  },
  {
   "cell_type": "code",
   "execution_count": 37,
   "metadata": {},
   "outputs": [],
   "source": [
    "# Need to Deal with NA/missing values \n",
    "# imp = sklearn.impute.KNNImputer(n_neighbors=3,weights = \"uniform\")\n",
    "\n",
    "# training_data2 = imp.fit_transform(training_data)\n",
    "# training_data.isna()\n",
    "# np.where(pd.isnull(training_data))\n",
    "# np.where(pd.isnull(training_data))"
   ]
  }
 ],
 "metadata": {
  "kernelspec": {
   "display_name": "DMC",
   "language": "python",
   "name": "python3"
  },
  "language_info": {
   "codemirror_mode": {
    "name": "ipython",
    "version": 3
   },
   "file_extension": ".py",
   "mimetype": "text/x-python",
   "name": "python",
   "nbconvert_exporter": "python",
   "pygments_lexer": "ipython3",
   "version": "3.12.3"
  }
 },
 "nbformat": 4,
 "nbformat_minor": 2
}
