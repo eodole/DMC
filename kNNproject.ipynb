{
 "cells": [
  {
   "cell_type": "code",
   "execution_count": 67,
   "metadata": {},
   "outputs": [],
   "source": [
    "import numpy as np\n",
    "import pandas as pd\n",
    "import sklearn.impute\n",
    "import sklearn.neighbors \n",
    "import sklearn.model_selection\n",
    "from sklearn.model_selection import train_test_split\n",
    "from sklearn.model_selection import cross_val_score\n",
    "from sklearn import neural_network\n",
    "from sklearn import preprocessing\n",
    "from sklearn.metrics import confusion_matrix, make_scorer"
   ]
  },
  {
   "cell_type": "code",
   "execution_count": 23,
   "metadata": {},
   "outputs": [],
   "source": [
    "pd.set_option('display.max_rows', 200)\n",
    "pd.set_option('display.max_columns', 200)"
   ]
  },
  {
   "cell_type": "code",
   "execution_count": 42,
   "metadata": {},
   "outputs": [
    {
     "name": "stdout",
     "output_type": "stream",
     "text": [
      "(8000, 117)\n",
      "after group dv\n",
      "(8000, 127)\n"
     ]
    }
   ],
   "source": [
    "# Import Training Data\n",
    "training_data= pd.read_csv(\"./Data/training_data.csv\", sep=\";\", decimal=',')\n",
    "\n",
    "# features and target split \n",
    "data_X = training_data.loc[:, training_data.columns != \"Class\"]\n",
    "data_X = data_X.loc[:, data_X.columns != \"Perform\"]\n",
    "\n",
    "data_Class = training_data.loc[:, \"Class\"]\n",
    "data_Perform = training_data.loc[:,\"Perform\"]\n",
    "\n",
    "# Take the names of only the numeric columns, i.e. columns other than group \n",
    "numeric_col =data_X.iloc[:,1:].columns # data without groups\n",
    "\n",
    "# Scale the data \n",
    "scaler=preprocessing.StandardScaler()\n",
    "data_X[numeric_col] = scaler.fit_transform(data_X[numeric_col])\n",
    "data_X.head()\n",
    "\n",
    "# Add Dummy Variables for Group\n",
    "print(data_X.shape)\n",
    "data_X = pd.get_dummies(data_X,\"Group_\",columns=[\"Group\"])\n",
    "print(\"after group dv\")\n",
    "print(data_X.shape)"
   ]
  },
  {
   "cell_type": "code",
   "execution_count": 38,
   "metadata": {},
   "outputs": [
    {
     "data": {
      "text/plain": [
       "array([[ 0.06965696, -0.08098081, -0.08336017, ...,  0.        ,\n",
       "         0.        ,  1.        ],\n",
       "       [-0.86974872, -0.15629212, -0.15970118, ...,  0.        ,\n",
       "         0.        ,  0.        ],\n",
       "       [ 0.03466011, -0.13459499, -0.16082084, ...,  0.        ,\n",
       "         0.        ,  0.        ],\n",
       "       ...,\n",
       "       [ 0.27579044, -0.09551734, -0.12325445, ...,  0.        ,\n",
       "         0.        ,  0.        ],\n",
       "       [ 1.11603198, -0.08135393, -0.1323705 , ...,  0.        ,\n",
       "         0.        ,  0.        ],\n",
       "       [ 0.331014  , -0.09122743, -0.10620628, ...,  0.        ,\n",
       "         0.        ,  0.        ]])"
      ]
     },
     "execution_count": 38,
     "metadata": {},
     "output_type": "execute_result"
    }
   ],
   "source": [
    "# Impute the data \n",
    "imp = sklearn.impute.KNNImputer(n_neighbors=3,weights = \"uniform\")\n",
    "\n",
    "data_X = imp.fit_transform(data_X)\n",
    "data_X"
   ]
  },
  {
   "cell_type": "code",
   "execution_count": 39,
   "metadata": {},
   "outputs": [],
   "source": [
    "# Split Given Training Data to Test/Train Split \n",
    "X_train, X_test, Y_train, Y_test = sklearn.model_selection.train_test_split(data_X, data_Class, test_size=0.25, random_state=30)"
   ]
  },
  {
   "cell_type": "markdown",
   "metadata": {},
   "source": [
    "We split the test and train data with 3/4 train and 1/4 test data. "
   ]
  },
  {
   "cell_type": "code",
   "execution_count": 40,
   "metadata": {},
   "outputs": [
    {
     "data": {
      "text/plain": [
       "0.4235"
      ]
     },
     "execution_count": 40,
     "metadata": {},
     "output_type": "execute_result"
    }
   ],
   "source": [
    "# Basic kNN classifier without cross validation \n",
    "C1 = sklearn.neighbors.KNeighborsClassifier(n_neighbors=5)\n",
    "C1.fit(X_train, Y_train)\n",
    "C1.score(X_test, Y_test)\n"
   ]
  },
  {
   "cell_type": "code",
   "execution_count": 28,
   "metadata": {},
   "outputs": [
    {
     "data": {
      "text/plain": [
       "0.4445"
      ]
     },
     "execution_count": 28,
     "metadata": {},
     "output_type": "execute_result"
    }
   ],
   "source": [
    "C1 = sklearn.neighbors.KNeighborsClassifier(n_neighbors=10)\n",
    "C1.fit(X_train, Y_train)\n",
    "C1.score(X_test, Y_test)\n"
   ]
  },
  {
   "cell_type": "code",
   "execution_count": 29,
   "metadata": {},
   "outputs": [
    {
     "data": {
      "text/plain": [
       "0.456"
      ]
     },
     "execution_count": 29,
     "metadata": {},
     "output_type": "execute_result"
    }
   ],
   "source": [
    "C1 = sklearn.neighbors.KNeighborsClassifier(n_neighbors=15)\n",
    "C1.fit(X_train, Y_train)\n",
    "C1.score(X_test, Y_test)\n"
   ]
  },
  {
   "cell_type": "code",
   "execution_count": 30,
   "metadata": {},
   "outputs": [
    {
     "data": {
      "text/plain": [
       "0.471"
      ]
     },
     "execution_count": 30,
     "metadata": {},
     "output_type": "execute_result"
    }
   ],
   "source": [
    "C1 = sklearn.neighbors.KNeighborsClassifier(n_neighbors=50)\n",
    "C1.fit(X_train, Y_train)\n",
    "C1.score(X_test, Y_test)\n"
   ]
  },
  {
   "cell_type": "code",
   "execution_count": 33,
   "metadata": {},
   "outputs": [
    {
     "name": "stdout",
     "output_type": "stream",
     "text": [
      "0.4755\n",
      "hello\n"
     ]
    }
   ],
   "source": [
    "C1 = sklearn.neighbors.KNeighborsClassifier(n_neighbors=150)\n",
    "C1.fit(X_train, Y_train)\n",
    "print(C1.score(X_test, Y_test))\n",
    "\n"
   ]
  },
  {
   "cell_type": "markdown",
   "metadata": {},
   "source": [
    "So we a really basic kNN Classifier we can only get around 50% accuracy, this may be do with the fact that I imputed values using KNN. So I'll try to repeat the process using a different impute method"
   ]
  },
  {
   "cell_type": "code",
   "execution_count": 38,
   "metadata": {},
   "outputs": [],
   "source": [
    "# Impute the data \n",
    "imp = sklearn.impute.SimpleImputer(strategy=\"median\")\n",
    "\n",
    "data_X = imp.fit_transform(data_X)\n",
    "data_X\n",
    "\n",
    "# Split Given Training Data to Test/Train Split \n",
    "X_train, X_test, Y_train, Y_test = sklearn.model_selection.train_test_split(data_X, data_Class, test_size=0.25, random_state=30)\n",
    "\n"
   ]
  },
  {
   "cell_type": "code",
   "execution_count": 42,
   "metadata": {},
   "outputs": [
    {
     "name": "stdout",
     "output_type": "stream",
     "text": [
      "N = 5 \n",
      "0.418\n",
      "N = 5 with distance\n",
      "0.4375\n",
      "N = 10 \n",
      "0.4445\n",
      "N = 10 with distance\n",
      "0.4575\n",
      "N = 15 \n",
      "0.456\n",
      "N = 15 with distance\n",
      "0.462\n",
      "N = 50 \n",
      "0.471\n",
      "N = 50 with distance\n",
      "0.4795\n",
      "N = 150 \n",
      "0.4755\n",
      "N = 150 with distance\n",
      "0.478\n"
     ]
    }
   ],
   "source": [
    "# Basic kNN classifier without cross validation \n",
    "C1 = sklearn.neighbors.KNeighborsClassifier(n_neighbors=5)\n",
    "C1.fit(X_train, Y_train)\n",
    "print(\"N = 5 \")\n",
    "print(C1.score(X_test, Y_test))\n",
    "\n",
    "C1 = sklearn.neighbors.KNeighborsClassifier(n_neighbors=5, weights=\"distance\")\n",
    "C1.fit(X_train, Y_train)\n",
    "print(\"N = 5 with distance\")\n",
    "print(C1.score(X_test, Y_test))\n",
    "\n",
    "C1 = sklearn.neighbors.KNeighborsClassifier(n_neighbors=10)\n",
    "C1.fit(X_train, Y_train)\n",
    "print(\"N = 10 \")\n",
    "print(C1.score(X_test, Y_test))\n",
    "\n",
    "C1 = sklearn.neighbors.KNeighborsClassifier(n_neighbors=10, weights=\"distance\")\n",
    "C1.fit(X_train, Y_train)\n",
    "print(\"N = 10 with distance\")\n",
    "print(C1.score(X_test, Y_test))\n",
    "\n",
    "C1 = sklearn.neighbors.KNeighborsClassifier(n_neighbors=15)\n",
    "C1.fit(X_train, Y_train)\n",
    "print(\"N = 15 \")\n",
    "print(C1.score(X_test, Y_test))\n",
    "\n",
    "C1 = sklearn.neighbors.KNeighborsClassifier(n_neighbors=15, weights=\"distance\")\n",
    "C1.fit(X_train, Y_train)\n",
    "print(\"N = 15 with distance\")\n",
    "print(C1.score(X_test, Y_test))\n",
    "\n",
    "C1 = sklearn.neighbors.KNeighborsClassifier(n_neighbors=50)\n",
    "C1.fit(X_train, Y_train)\n",
    "print(\"N = 50 \")\n",
    "print(C1.score(X_test, Y_test))\n",
    "\n",
    "C1 = sklearn.neighbors.KNeighborsClassifier(n_neighbors=50, weights=\"distance\")\n",
    "C1.fit(X_train, Y_train)\n",
    "print(\"N = 50 with distance\")\n",
    "print(C1.score(X_test, Y_test))\n",
    "\n",
    "C1 = sklearn.neighbors.KNeighborsClassifier(n_neighbors=150)\n",
    "C1.fit(X_train, Y_train)\n",
    "print(\"N = 150 \")\n",
    "print(C1.score(X_test, Y_test))\n",
    "\n",
    "C1 = sklearn.neighbors.KNeighborsClassifier(n_neighbors=150, weights=\"distance\")\n",
    "C1.fit(X_train, Y_train)\n",
    "print(\"N = 150 with distance\")\n",
    "print(C1.score(X_test, Y_test))"
   ]
  },
  {
   "cell_type": "markdown",
   "metadata": {},
   "source": [
    "Using weighted voting rather than uniform voting made a difference but only a small difference"
   ]
  },
  {
   "cell_type": "markdown",
   "metadata": {},
   "source": [
    "Next I plan to do knn with cross validation and check different hyperparameters \n",
    "\n",
    "- num neighbors\n",
    "- impute type\n",
    "\n",
    "The procedure uses 5 fold CV\n"
   ]
  },
  {
   "cell_type": "code",
   "execution_count": 73,
   "metadata": {},
   "outputs": [],
   "source": [
    "#Custom scorer \n",
    "def avg_err_cost(y_true, y_pred):\n",
    "    # Define the desired rows\n",
    "    row1 = [0, 1, 2]\n",
    "    row2 = [1, 0, 1]\n",
    "    row3 = [2, 1, 0]\n",
    "\n",
    "    cost_matrix = np.array([row1, row2, row3]) \n",
    "    confu_matrix = confusion_matrix(y_true, y_pred)\n",
    "    acc = 1 - np.sum(confu_matrix * cost_matrix)/len(y_true)\n",
    "    return  acc\n",
    "\n",
    "custom_scorer = make_scorer(avg_err_cost)"
   ]
  },
  {
   "cell_type": "code",
   "execution_count": null,
   "metadata": {},
   "outputs": [],
   "source": []
  },
  {
   "cell_type": "code",
   "execution_count": 69,
   "metadata": {},
   "outputs": [],
   "source": [
    "### Impute Data \n",
    "imp = sklearn.impute.SimpleImputer(strategy=\"median\")\n",
    "data_Xsimple = imp.fit_transform(data_X)\n",
    "imp = sklearn.impute.KNNImputer(n_neighbors=3,weights = \"uniform\")\n",
    "data_XkNN = imp.fit_transform(data_X)\n",
    "\n",
    "\n"
   ]
  },
  {
   "cell_type": "code",
   "execution_count": 74,
   "metadata": {},
   "outputs": [
    {
     "name": "stdout",
     "output_type": "stream",
     "text": [
      "Impute Simple with 3 neighbors \n",
      "0.03563 accuracy with a standard deviation of 0.00670\n",
      "Impute Simple with 5 neighbors \n",
      "0.04413 accuracy with a standard deviation of 0.00662\n",
      "Impute Simple with 10 neighbors \n",
      "0.06212 accuracy with a standard deviation of 0.01143\n",
      "Impute Simple with 15 neighbors \n",
      "0.08213 accuracy with a standard deviation of 0.00771\n",
      "Impute Simple with 50 neighbors \n",
      "0.10100 accuracy with a standard deviation of 0.00840\n",
      "Impute Simple with 100 neighbors \n",
      "0.10300 accuracy with a standard deviation of 0.01276\n",
      "Impute Simple with 150 neighbors \n",
      "0.10200 accuracy with a standard deviation of 0.01732\n",
      "Impute Simple with 200 neighbors \n",
      "0.09425 accuracy with a standard deviation of 0.01210\n"
     ]
    }
   ],
   "source": [
    "# ### Make test/train split which is already done in this notebook\n",
    "\n",
    "# # # features and target split \n",
    "# data_X = training_data.loc[:, training_data.columns != \"Class\"]\n",
    "# data_X = data_X.loc[:, data_X.columns != \"Perform\"]\n",
    "\n",
    "# data_Class = training_data.loc[:, \"Class\"]\n",
    "# data_Perform = training_data.loc[:,\"Perform\"]\n",
    "\n",
    "\n",
    "\n",
    "### Split Data\n",
    "# X_train, X_test, Y_train, Y_test = sklearn.model_selection.train_test_split(data_Xsimple, data_Class, test_size=0.25, random_state=30)\n",
    "\n",
    "# Neighbors \n",
    "n_neighbors = [3,5,10,15,50,100,150,200]\n",
    "imp_simple_means =[]\n",
    "\n",
    "for neighbors in n_neighbors:\n",
    "    C1 = sklearn.neighbors.KNeighborsClassifier(n_neighbors=neighbors)\n",
    "    scores = cross_val_score(C1, data_Xsimple, data_Class,cv=5, scoring=custom_scorer )\n",
    "    print(f\"Impute Simple with {neighbors} neighbors \")\n",
    "    print(\"%0.5f accuracy with a standard deviation of %0.5f\" % (scores.mean(), scores.std()))\n",
    "    imp_simple_means.append(scores.mean())\n"
   ]
  },
  {
   "cell_type": "code",
   "execution_count": 76,
   "metadata": {},
   "outputs": [
    {
     "name": "stdout",
     "output_type": "stream",
     "text": [
      "Impute Simple with 3 neighbors \n",
      "0.03638 accuracy with a standard deviation of 0.00890\n",
      "Impute Simple with 5 neighbors \n",
      "0.04663 accuracy with a standard deviation of 0.00498\n",
      "Impute Simple with 10 neighbors \n",
      "0.05875 accuracy with a standard deviation of 0.00509\n",
      "Impute Simple with 15 neighbors \n",
      "0.08012 accuracy with a standard deviation of 0.00920\n",
      "Impute Simple with 50 neighbors \n",
      "0.10050 accuracy with a standard deviation of 0.01390\n",
      "Impute Simple with 100 neighbors \n",
      "0.10375 accuracy with a standard deviation of 0.01364\n",
      "Impute Simple with 150 neighbors \n",
      "0.09725 accuracy with a standard deviation of 0.01773\n",
      "Impute Simple with 200 neighbors \n",
      "0.09100 accuracy with a standard deviation of 0.01148\n"
     ]
    }
   ],
   "source": [
    "imp_knn_means =[]\n",
    "\n",
    "for neighbors in n_neighbors:\n",
    "    C1 = sklearn.neighbors.KNeighborsClassifier(n_neighbors=neighbors)\n",
    "    scores = cross_val_score(C1, data_XkNN, data_Class,cv=5, scoring=custom_scorer )\n",
    "    print(f\"Impute Simple with {neighbors} neighbors \")\n",
    "    print(\"%0.5f accuracy with a standard deviation of %0.5f\" % (scores.mean(), scores.std()))\n",
    "    imp_knn_means.append(scores.mean())\n"
   ]
  },
  {
   "cell_type": "code",
   "execution_count": 46,
   "metadata": {},
   "outputs": [
    {
     "data": {
      "text/plain": [
       "[0.4266249999999999,\n",
       " 0.42437500000000006,\n",
       " 0.450125,\n",
       " 0.46575,\n",
       " 0.4795,\n",
       " 0.4805,\n",
       " 0.48,\n",
       " 0.476125]"
      ]
     },
     "execution_count": 46,
     "metadata": {},
     "output_type": "execute_result"
    }
   ],
   "source": [
    "imp_simple_means"
   ]
  },
  {
   "cell_type": "code",
   "execution_count": 47,
   "metadata": {},
   "outputs": [
    {
     "data": {
      "text/plain": [
       "[0.42675,\n",
       " 0.42575,\n",
       " 0.4485,\n",
       " 0.464625,\n",
       " 0.47924999999999995,\n",
       " 0.48087500000000005,\n",
       " 0.477625,\n",
       " 0.47450000000000003]"
      ]
     },
     "execution_count": 47,
     "metadata": {},
     "output_type": "execute_result"
    }
   ],
   "source": [
    "imp_knn_means"
   ]
  },
  {
   "cell_type": "code",
   "execution_count": 51,
   "metadata": {},
   "outputs": [],
   "source": [
    "import seaborn as sns"
   ]
  },
  {
   "cell_type": "code",
   "execution_count": 77,
   "metadata": {},
   "outputs": [
    {
     "data": {
      "text/plain": [
       "<seaborn.axisgrid.FacetGrid at 0x1698c8d70>"
      ]
     },
     "execution_count": 77,
     "metadata": {},
     "output_type": "execute_result"
    },
    {
     "data": {
      "image/png": "[encoded data removed]",
      "text/plain": [
       "<Figure size 603.847x500 with 1 Axes>"
      ]
     },
     "metadata": {},
     "output_type": "display_data"
    }
   ],
   "source": [
    "# Create Data Frame for visualization\n",
    "knn_results = pd.DataFrame(data={\n",
    "    \"Mean\" : imp_simple_means + imp_knn_means, \n",
    "    \"Impute Type\" : 8* [\"simple\"] + 8* [\"knn\"], \n",
    "    \"Num. Neighbors\" : 2 * n_neighbors\n",
    "    })\n",
    "\n",
    "knn_results.head()\n",
    "\n",
    "\n",
    "sns.set_theme(style=\"whitegrid\")\n",
    "\n",
    "g = sns.catplot(data=knn_results, \n",
    "                kind=\"bar\", \n",
    "                x=\"Num. Neighbors\",\n",
    "                y=\"Mean\",\n",
    "                hue=\"Impute Type\")\n",
    "\n",
    "g.set(title=\"KNN Results with 5-Fold CV and Scaled Features\")\n"
   ]
  },
  {
   "cell_type": "markdown",
   "metadata": {},
   "source": [
    "The Ideal number of neighbors seems to be somewhere between 50 and 200, since our accuracy of the tested values peaks around 100. We could also try rescaling the data.\n",
    "\n",
    "Even after further experiments where I rescaled the data the improvement was only slight and again the knn imputed data performs better "
   ]
  },
  {
   "cell_type": "code",
   "execution_count": 78,
   "metadata": {},
   "outputs": [
    {
     "data": {
      "text/plain": [
       "(8000, 127)"
      ]
     },
     "execution_count": 78,
     "metadata": {},
     "output_type": "execute_result"
    }
   ],
   "source": [
    "# Using the hueristic \n",
    "# 1 hidden layer with n = mean(#inputs, #outputs) neurons \n",
    "data_X.shape\n"
   ]
  },
  {
   "cell_type": "code",
   "execution_count": null,
   "metadata": {},
   "outputs": [],
   "source": [
    "clf = neural_network.MLPClassifier()"
   ]
  },
  {
   "cell_type": "code",
   "execution_count": 37,
   "metadata": {},
   "outputs": [],
   "source": [
    "# Need to Deal with NA/missing values \n",
    "# imp = sklearn.impute.KNNImputer(n_neighbors=3,weights = \"uniform\")\n",
    "\n",
    "# training_data2 = imp.fit_transform(training_data)\n",
    "# training_data.isna()\n",
    "# np.where(pd.isnull(training_data))\n",
    "# np.where(pd.isnull(training_data))\n",
    "\n"
   ]
  },
  {
   "cell_type": "code",
   "execution_count": 80,
   "metadata": {},
   "outputs": [
    {
     "data": {
      "text/plain": [
       "array([[0, 2, 0],\n",
       "       [0, 0, 1],\n",
       "       [1, 1, 1]])"
      ]
     },
     "execution_count": 80,
     "metadata": {},
     "output_type": "execute_result"
    }
   ],
   "source": [
    "y_true = [1,1,0,-1,-1,1]\n",
    "y_pred = [1,0,1,0,0,-1]\n",
    "\n",
    "confusion_matrix(y_true, y_pred,)"
   ]
  }
 ],
 "metadata": {
  "kernelspec": {
   "display_name": "DMC",
   "language": "python",
   "name": "python3"
  },
  "language_info": {
   "codemirror_mode": {
    "name": "ipython",
    "version": 3
   },
   "file_extension": ".py",
   "mimetype": "text/x-python",
   "name": "python",
   "nbconvert_exporter": "python",
   "pygments_lexer": "ipython3",
   "version": "3.12.3"
  }
 },
 "nbformat": 4,
 "nbformat_minor": 2
}
